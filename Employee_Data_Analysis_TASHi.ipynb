{
 "cells": [
  {
   "cell_type": "code",
   "execution_count": null,
   "metadata": {
    "id": "ayp0VSnf50cL",
    "outputId": "9168a914-e695-48f6-f81b-a92b96caa3a2"
   },
   "outputs": [
    {
     "data": {
      "text/plain": [
       "'\\n    @Tashi Chotso\\n'"
      ]
     },
     "execution_count": 17,
     "metadata": {},
     "output_type": "execute_result"
    }
   ],
   "source": [
    "\"\"\"\n",
    "    @Tashi Chotso\n",
    "\"\"\""
   ]
  },
  {
   "cell_type": "markdown",
   "metadata": {
    "id": "gNf66oms50cR"
   },
   "source": [
    "# 1.Loading Data "
   ]
  },
  {
   "cell_type": "code",
   "execution_count": 1,
   "metadata": {
    "id": "o-GrnrRF50cT"
   },
   "outputs": [],
   "source": [
    "\n",
    "#import neccessary packages\n",
    "#packages for pyspark\n",
    "from pyspark.sql import SparkSession\n",
    "from pyspark.sql.types import *\n",
    "from pyspark.sql.functions import *\n",
    "from pyspark.sql import functions as f\n",
    "from pyspark.sql.types import IntegerType\n",
    "\n",
    "#libraries for visualizaton\n",
    "import numpy as np\n",
    "import pandas as pd\n",
    "import matplotlib.pyplot as plt\n",
    "import seaborn as sns\n",
    "#packages for modelling and encoding \n",
    "from pyspark.ml.feature import StringIndexer, OneHotEncoder, VectorAssembler\n",
    "from pyspark.sql.functions import col, log, isnan, count\n",
    "from pyspark.ml.feature import Imputer\n",
    "from pyspark.ml.classification import RandomForestClassifier\n",
    "from pyspark.ml.evaluation import MulticlassClassificationEvaluator, BinaryClassificationEvaluator\n",
    "from pyspark.ml import Pipeline"
   ]
  },
  {
   "cell_type": "code",
   "execution_count": 2,
   "metadata": {
    "id": "29H17Der50cV",
    "outputId": "5f1e4cfb-dd1e-4f52-fb7e-746dfa3270a7",
    "scrolled": false
   },
   "outputs": [
    {
     "data": {
      "text/html": [
       "\n",
       "            <div>\n",
       "                <p><b>SparkSession - hive</b></p>\n",
       "                \n",
       "        <div>\n",
       "            <p><b>SparkContext</b></p>\n",
       "\n",
       "            <p><a href=\"http://ip-10-1-1-204.ap-south-1.compute.internal:43013\">Spark UI</a></p>\n",
       "\n",
       "            <dl>\n",
       "              <dt>Version</dt>\n",
       "                <dd><code>v2.4.0</code></dd>\n",
       "              <dt>Master</dt>\n",
       "                <dd><code>local[*]</code></dd>\n",
       "              <dt>AppName</dt>\n",
       "                <dd><code>Capstone</code></dd>\n",
       "            </dl>\n",
       "        </div>\n",
       "        \n",
       "            </div>\n",
       "        "
      ],
      "text/plain": [
       "<pyspark.sql.session.SparkSession at 0x7f24d91c9c10>"
      ]
     },
     "execution_count": 2,
     "metadata": {},
     "output_type": "execute_result"
    }
   ],
   "source": [
    "from pyspark.sql import SparkSession\n",
    "\n",
    "spark = (SparkSession.builder.appName(\"Capstone\")\\\n",
    "         .config(\"hive.metastore.uris\",\"thrift://ip-10-1-2-24.ap-south-1.compute.internal:9083\")\\\n",
    "         .enableHiveSupport().getOrCreate())\n",
    "spark"
   ]
  },
  {
   "cell_type": "markdown",
   "metadata": {
    "id": "QYhkYa-l50cW"
   },
   "source": [
    "# 2. Data Cleaning /Mugging "
   ]
  },
  {
   "cell_type": "code",
   "execution_count": 3,
   "metadata": {
    "id": "GZBxyhhn50cW",
    "outputId": "821aee08-01e4-41ea-8b74-6ffe37773a73",
    "scrolled": true
   },
   "outputs": [
    {
     "name": "stdout",
     "output_type": "stream",
     "text": [
      "total records in dept_manager dataset 24\n",
      "total records in titles dataset  7\n",
      "total records in employees dataset 300024\n",
      "total records in dept_emp dataset 331603\n",
      "total records in salaires  300024\n",
      "total records in department 9\n"
     ]
    }
   ],
   "source": [
    "#dimension of all six tables \n",
    "print(\"total records in dept_manager dataset\",spark.sql(\"select * from finalexl.dept_managers\").count())\n",
    "print(\"total records in titles dataset \",spark.sql(\"select * from finalexl.titles\").count())\n",
    "print(\"total records in employees dataset\",spark.sql(\"select * from finalexl.employees\").count())\n",
    "print(\"total records in dept_emp dataset\",spark.sql(\"select * from finalexl.dept_emp\").count())\n",
    "print(\"total records in salaires \",spark.sql(\"select * from finalexl.salaries\").count())\n",
    "print('total records in department',spark.sql(\"select * from finalexl.department\").count())"
   ]
  },
  {
   "cell_type": "code",
   "execution_count": 4,
   "metadata": {
    "id": "QnMcdwI-50cX"
   },
   "outputs": [],
   "source": [
    "#view records in table\n",
    "dept_managers=spark.sql(\"select * from finalexl.dept_managers\")\n",
    "titles=spark.sql(\"select * from finalexl.titles\")\n",
    "employees=spark.sql(\"select * from finalexl.employees\")\n",
    "dept_emp=spark.sql(\"select * from finalexl.dept_emp\")\n",
    "salaries=spark.sql(\"select * from finalexl.salaries\")\n",
    "department=spark.sql(\"select * from finalexl.department\")\n"
   ]
  },
  {
   "cell_type": "code",
   "execution_count": null,
   "metadata": {
    "id": "72kviAFn50cY"
   },
   "outputs": [],
   "source": [
    "#write in csv \n",
    "#titles.write.csv(\"titles.csv\")\n",
    "#employees.write.csv(\"employees.csv\")\n",
    "#dept_emp.write.csv(\"dept_emp.csv\")\n",
    "#salaries.write.csv(\"salaries.csv\")\n",
    "#department.write.csv(\"department.csv\")"
   ]
  },
  {
   "cell_type": "code",
   "execution_count": 5,
   "metadata": {
    "id": "1Ygwzk4u50cZ"
   },
   "outputs": [],
   "source": [
    "#write to csv\n",
    "dept_managers = spark.read.csv(\"dept_managers.csv\")\n",
    "titles = spark.read.csv(\"titles.csv\")\n",
    "employees = spark.read.csv(\"employees.csv\")\n",
    "dept_emp= spark.read.csv(\"dept_emp.csv\")\n",
    "salaries= spark.read.csv(\"salaries.csv\")\n",
    "department = spark.read.csv(\"department.csv\")"
   ]
  },
  {
   "cell_type": "code",
   "execution_count": 6,
   "metadata": {
    "id": "Q2yFeySy50ca",
    "outputId": "7a4a101e-056e-4899-d073-70813d462349"
   },
   "outputs": [
    {
     "name": "stdout",
     "output_type": "stream",
     "text": [
      "+------+------+\n",
      "|emp_no|salary|\n",
      "+------+------+\n",
      "| 10001| 60117|\n",
      "| 10002| 65828|\n",
      "+------+------+\n",
      "only showing top 2 rows\n",
      "\n"
     ]
    }
   ],
   "source": [
    "#rename columns\n",
    "salaries= salaries.withColumnRenamed('_c0', 'emp_no')\\\n",
    "       .withColumnRenamed('_c1','salary')\n",
    "salaries.show(2)"
   ]
  },
  {
   "cell_type": "code",
   "execution_count": 7,
   "metadata": {
    "id": "kJ0dLrUp50cb",
    "outputId": "7fc67cb7-1381-46eb-b0cf-5d56ecac4e98"
   },
   "outputs": [
    {
     "name": "stdout",
     "output_type": "stream",
     "text": [
      "+-------+---------+\n",
      "|dept_no|dept_name|\n",
      "+-------+---------+\n",
      "|   d001|Marketing|\n",
      "|   d002|  Finance|\n",
      "+-------+---------+\n",
      "only showing top 2 rows\n",
      "\n"
     ]
    }
   ],
   "source": [
    "#rename columns\n",
    "department= department.withColumnRenamed('_c0', 'dept_no')\\\n",
    "       .withColumnRenamed('_c1','dept_name')\n",
    "department.show(2)"
   ]
  },
  {
   "cell_type": "code",
   "execution_count": 8,
   "metadata": {
    "id": "91lyaTnT50cc",
    "outputId": "153dda6c-68c3-4e36-9894-1ff15ef1d152"
   },
   "outputs": [
    {
     "name": "stdout",
     "output_type": "stream",
     "text": [
      "+------+-------+\n",
      "|emp_no|dept_no|\n",
      "+------+-------+\n",
      "| 10001|   d005|\n",
      "| 10002|   d007|\n",
      "+------+-------+\n",
      "only showing top 2 rows\n",
      "\n"
     ]
    }
   ],
   "source": [
    "#rename columns\n",
    "dept_emp= dept_emp.withColumnRenamed('_c0', 'emp_no')\\\n",
    "       .withColumnRenamed('_c1','dept_no')\n",
    "dept_emp.show(2)"
   ]
  },
  {
   "cell_type": "code",
   "execution_count": 9,
   "metadata": {
    "id": "QhF2oi0S50cc",
    "outputId": "b45a65cb-7630-4ac2-e069-7be81d796712"
   },
   "outputs": [
    {
     "name": "stdout",
     "output_type": "stream",
     "text": [
      "+-------+------+\n",
      "|dept_no|emp_no|\n",
      "+-------+------+\n",
      "|   d001|110022|\n",
      "|   d001|110039|\n",
      "+-------+------+\n",
      "only showing top 2 rows\n",
      "\n"
     ]
    }
   ],
   "source": [
    "#rename columns\n",
    "dept_managers= dept_managers.withColumnRenamed('_c0', 'dept_no')\\\n",
    "       .withColumnRenamed('_c1','emp_no')\n",
    "dept_managers.show(2)"
   ]
  },
  {
   "cell_type": "code",
   "execution_count": 10,
   "metadata": {
    "id": "O2DfB93j50cd",
    "outputId": "664d3141-5da6-48ef-f762-c48dfe595807"
   },
   "outputs": [
    {
     "name": "stdout",
     "output_type": "stream",
     "text": [
      "+--------+------------------+\n",
      "|title_id|             title|\n",
      "+--------+------------------+\n",
      "|   e0001|Assistant Engineer|\n",
      "|   e0002|          Engineer|\n",
      "+--------+------------------+\n",
      "only showing top 2 rows\n",
      "\n"
     ]
    }
   ],
   "source": [
    "#rename title table\n",
    "titles= titles.withColumnRenamed('_c0', 'title_id')\\\n",
    "       .withColumnRenamed('_c1','title')\n",
    "titles.show(2)"
   ]
  },
  {
   "cell_type": "code",
   "execution_count": 11,
   "metadata": {
    "id": "kvF1JUHV50ce",
    "outputId": "6de68302-3645-4f06-e936-01909a2c0a38"
   },
   "outputs": [
    {
     "name": "stdout",
     "output_type": "stream",
     "text": [
      "+------+------------+----------+----------+---------+---+----------+--------------+----------------+-----------------+---------+\n",
      "|emp_no|emp_title_id|birth_date|first_name|last_name|sex| hire_date|no_of_projects|Last_performance|left_organisation|last_date|\n",
      "+------+------------+----------+----------+---------+---+----------+--------------+----------------+-----------------+---------+\n",
      "| 10001|       e0003|  9/2/1953|    Georgi|  Facello|  M| 6/26/1986|             9|               C|                1|7/30/1994|\n",
      "| 10002|       s0001|  6/2/1964|   Bezalel|   Simmel|  F|11/21/1985|             8|               B|                0|     \\\"\\\"|\n",
      "| 10003|       e0003| 12/3/1959|     Parto|  Bamford|  M| 8/28/1986|             1|               C|                0|     \\\"\\\"|\n",
      "+------+------------+----------+----------+---------+---+----------+--------------+----------------+-----------------+---------+\n",
      "only showing top 3 rows\n",
      "\n"
     ]
    }
   ],
   "source": [
    "#rename cols using withColumnRename func\n",
    "employees= employees.withColumnRenamed('_c0', 'emp_no')\\\n",
    "       .withColumnRenamed('_c1','emp_title_id')\\\n",
    "       .withColumnRenamed('_c2','birth_date')\\\n",
    "       .withColumnRenamed('_c3','first_name')\\\n",
    "       .withColumnRenamed('_c4','last_name')\\\n",
    "       .withColumnRenamed('_c5','sex')\\\n",
    "       .withColumnRenamed('_c6','hire_date')\\\n",
    "       .withColumnRenamed('_c7','no_of_projects')\\\n",
    "       .withColumnRenamed('_c8','Last_performance')\\\n",
    "       .withColumnRenamed('_c9','left_organisation')\\\n",
    "     .withColumnRenamed('_c10','last_date')        \n",
    "\n",
    "employees.show(3)"
   ]
  },
  {
   "cell_type": "code",
   "execution_count": 94,
   "metadata": {
    "id": "NTCc1BIG50cf"
   },
   "outputs": [],
   "source": [
    "#combine table\n",
    "emp_df = employees.join(dept_emp,on = 'emp_no', how = 'left') \\\n",
    "        .join(department, on='dept_no',how = 'left') \\\n",
    "        .join(salaries, on ='emp_no', how = 'left') \\\n",
    "        .join(titles, employees.emp_title_id == titles.title_id, 'left')"
   ]
  },
  {
   "cell_type": "code",
   "execution_count": null,
   "metadata": {
    "id": "6G0t_qOi50cf",
    "outputId": "c466234d-ffa2-403e-c5fb-3c6b95532da0"
   },
   "outputs": [
    {
     "name": "stdout",
     "output_type": "stream",
     "text": [
      "root\n",
      " |-- emp_no: string (nullable = true)\n",
      " |-- dept_no: string (nullable = true)\n",
      " |-- emp_title_id: string (nullable = true)\n",
      " |-- birth_date: string (nullable = true)\n",
      " |-- first_name: string (nullable = true)\n",
      " |-- last_name: string (nullable = true)\n",
      " |-- sex: string (nullable = true)\n",
      " |-- hire_date: string (nullable = true)\n",
      " |-- no_of_projects: string (nullable = true)\n",
      " |-- Last_performance: string (nullable = true)\n",
      " |-- left_organisation: string (nullable = true)\n",
      " |-- last_date: string (nullable = true)\n",
      " |-- dept_name: string (nullable = true)\n",
      " |-- salary: string (nullable = true)\n",
      " |-- title_id: string (nullable = true)\n",
      " |-- title: string (nullable = true)\n",
      "\n"
     ]
    }
   ],
   "source": [
    "#dataset schema\n",
    "emp_df.printSchema()"
   ]
  },
  {
   "cell_type": "code",
   "execution_count": null,
   "metadata": {
    "id": "-GdInZD650cg",
    "outputId": "17b67215-1e58-46a8-d3c8-70b036bef23e"
   },
   "outputs": [
    {
     "name": "stdout",
     "output_type": "stream",
     "text": [
      "+------+-------+------------+----------+----------+---------+---+---------+--------------+----------------+-----------------+---------+---------+------+--------+-----+\n",
      "|emp_no|dept_no|emp_title_id|birth_date|first_name|last_name|sex|hire_date|no_of_projects|Last_performance|left_organisation|last_date|dept_name|salary|title_id|title|\n",
      "+------+-------+------------+----------+----------+---------+---+---------+--------------+----------------+-----------------+---------+---------+------+--------+-----+\n",
      "|     0|      0|           0|         0|         0|        0|  0|        0|             0|               0|                0|        0|        0|     0|       0|    0|\n",
      "+------+-------+------------+----------+----------+---------+---+---------+--------------+----------------+-----------------+---------+---------+------+--------+-----+\n",
      "\n"
     ]
    }
   ],
   "source": [
    "#handling misssing data\n",
    "from pyspark.sql.functions import col,sum\n",
    "emp_df.select(*(sum(col(c).isNull().cast(\"int\")).alias(c) for c in emp_df.columns)).show()"
   ]
  },
  {
   "cell_type": "code",
   "execution_count": null,
   "metadata": {
    "id": "RdlO5KP850cg",
    "outputId": "80c0ec82-d0c0-440c-f989-3834156c5278"
   },
   "outputs": [
    {
     "name": "stdout",
     "output_type": "stream",
     "text": [
      "Number of orginal data rows: 331603\n",
      "Number of data rows after deleting duplicated data : 331603\n",
      "Number of duplicate rows : 0\n"
     ]
    }
   ],
   "source": [
    "#Handling duplicate data\n",
    "n1=emp_df.count()\n",
    "print(\"Number of orginal data rows:\",n1)\n",
    "n2=emp_df.dropDuplicates().count()\n",
    "print(\"Number of data rows after deleting duplicated data :\",n2)\n",
    "n3=n1-n2\n",
    "print(\"Number of duplicate rows :\",n3)"
   ]
  },
  {
   "cell_type": "markdown",
   "metadata": {
    "id": "7poNY5f450ch"
   },
   "source": [
    " # 3.Explortary Data Analysis "
   ]
  },
  {
   "cell_type": "code",
   "execution_count": 12,
   "metadata": {
    "id": "-32w8MLy50ch",
    "outputId": "e552b38d-0489-4539-9d66-c37819a153e3",
    "scrolled": false
   },
   "outputs": [
    {
     "name": "stdout",
     "output_type": "stream",
     "text": [
      "+------+---------------+----------+---+------+\n",
      "|emp_no|      last_name|first_name|sex|salary|\n",
      "+------+---------------+----------+---+------+\n",
      "|235675|           Zykh|    Yahiko|  M| 99999|\n",
      "|213379|       Einsfeld|      Moon|  F| 99993|\n",
      "|425641|     Lindenbaum|     Jeong|  F| 99990|\n",
      "| 31607|      Backhouse| Valdiodio|  F| 99988|\n",
      "|205875|        Niizuma|   Muzhong|  F| 99984|\n",
      "| 31499|        Pollock|   Naftali|  M| 99981|\n",
      "|278540|        Iacovou|    Naraig|  M| 99978|\n",
      "|498461|        Zwicker|  Hironobu|  F| 99977|\n",
      "| 70087|     Lemarechal|   Ronghao|  F| 99976|\n",
      "|282731|         Kamber| Moriyoshi|  F| 99973|\n",
      "|415886|Vanwelkenhuysen|   Licheng|  M| 99959|\n",
      "| 31595|      Barbanera|     Stevo|  M| 99948|\n",
      "|420951|        Ventosa| Moriyoshi|  M| 99939|\n",
      "|242204|        Grabner|      Kien|  F| 99937|\n",
      "| 87374|        Maraist|  Sampalli|  M| 99927|\n",
      "|435343|     Collavizza|    Yinlin|  M| 99918|\n",
      "|490610|        Mamelak| Jamaludin|  M| 99904|\n",
      "|476850|       Feinberg|     Denny|  M| 99903|\n",
      "| 61601|        Imataki|   Behnaam|  F| 99897|\n",
      "|269570|      Kermarrec|      Eben|  M| 99888|\n",
      "+------+---------------+----------+---+------+\n",
      "\n"
     ]
    }
   ],
   "source": [
    "# showing employee number, name , sex, and salary for each employee1  from max earning to lower \n",
    "df1=spark.sql(\"\"\"\n",
    "select employees.emp_no, employees.last_name, employees.first_name, employees.sex, \n",
    "salaries.salary FROM employees JOIN salaries ON employees.emp_no = salaries.emp_no order by salaries.salary desc limit 20 \"\"\").show()"
   ]
  },
  {
   "cell_type": "code",
   "execution_count": null,
   "metadata": {
    "id": "5Az-a5Zd50ch",
    "outputId": "1a731f9c-7128-41d8-8e37-2a3bf525205e"
   },
   "outputs": [
    {
     "data": {
      "text/plain": [
       "<matplotlib.axes._subplots.AxesSubplot at 0x7fdd9e97bf90>"
      ]
     },
     "execution_count": 208,
     "metadata": {},
     "output_type": "execute_result"
    },
    {
     "data": {
      "image/png": "[encoded data removed]",
      "text/plain": [
       "<Figure size 842.4x595.44 with 1 Axes>"
      ]
     },
     "metadata": {
      "needs_background": "light"
     },
     "output_type": "display_data"
    }
   ],
   "source": [
    "#top five max earning employee\n",
    "earning_df=spark.sql(\"\"\"\n",
    "select employees.emp_no,employees.sex,sum(salaries.salary) salary\n",
    "FROM employees JOIN salaries ON \n",
    "employees.emp_no = salaries.emp_no  group by employees.emp_no, employees.sex order by salary desc limit 20\n",
    "\n",
    "\"\"\")\n",
    "plt1=earning_df.toPandas()\n",
    "index=np.arange(20)\n",
    "sns.barplot(x=index ,y='salary',hue='sex',data=plt1)\n"
   ]
  },
  {
   "cell_type": "code",
   "execution_count": null,
   "metadata": {
    "id": "oCu151e-50ci",
    "outputId": "945a41a6-4300-4aa3-b90f-795ef54fbbbf"
   },
   "outputs": [
    {
     "data": {
      "image/png": "[encoded data removed]",
      "text/plain": [
       "<Figure size 842.4x595.44 with 1 Axes>"
      ]
     },
     "metadata": {
      "needs_background": "light"
     },
     "output_type": "display_data"
    }
   ],
   "source": [
    "# gender ratio for top 20 highest earning employee\n",
    "sns.countplot(\"sex\", data=plt1,color='green')\n",
    "plt.show()"
   ]
  },
  {
   "cell_type": "code",
   "execution_count": null,
   "metadata": {
    "id": "lFjWfwwO50ci",
    "outputId": "90d48a06-e109-422a-ecee-b55bb2715323"
   },
   "outputs": [
    {
     "data": {
      "image/png": "[encoded data removed]",
      "text/plain": [
       "<Figure size 842.4x595.44 with 1 Axes>"
      ]
     },
     "metadata": {
      "needs_background": "light"
     },
     "output_type": "display_data"
    }
   ],
   "source": [
    "#gender ratio overall \n",
    "gender_ratio=spark.sql(\"select sex from employees\")\n",
    "plt2=gender_ratio.toPandas()\n",
    "sns.countplot(\"sex\", data=plt2,color='yellow')\n",
    "plt.show()"
   ]
  },
  {
   "cell_type": "markdown",
   "metadata": {
    "id": "3BOD4Vpl50ci"
   },
   "source": [
    "### top 20  Highest earning employees are shown on above table ; Gridswold Charmane is being one who is earning highest among all at 129492, Majority of top  20 highest  earning employee are Male , there are only three percentage of women included in top 20 highest earning employee."
   ]
  },
  {
   "cell_type": "code",
   "execution_count": 13,
   "metadata": {
    "id": "TktKlxiO50cj"
   },
   "outputs": [],
   "source": [
    "#analysis which designation has most probability of churn and does salary depending of employee churning \n",
    "df2=spark.sql(\"\"\"\n",
    "select titles.title,salaries.salary, employees.left_ from titles \n",
    "JOIN  employees on titles.title_id=employees.emp_title_id \n",
    "JOIN salaries on employees.emp_no=salaries.emp_no order by salaries.salary desc\n",
    "\"\"\")"
   ]
  },
  {
   "cell_type": "code",
   "execution_count": null,
   "metadata": {
    "id": "FdborN8X50cj"
   },
   "outputs": [],
   "source": [
    "#plot for \n",
    "from matplotlib import rcParams\n",
    "# figure size in inches\n",
    "rcParams['figure.figsize'] = 11.7,8.27\n",
    "plt3=df2.toPandas()\n",
    "sns.barplot(x='title',y='salary',hue='left_',data=plt3)\n",
    "plt.title(\" employee churn rate w.r.t salary and their designation\")\n",
    "plt.show()\n",
    "sns.countplot(\"title\",data=plt3)\n",
    "plt.show()"
   ]
  },
  {
   "cell_type": "markdown",
   "metadata": {
    "id": "ocXThpGZ50cj"
   },
   "source": [
    "### According to given illustration , Majority of employees are in IT sector. Managers might churn regardingless of salary, There is high churn rate in manager designation at high salary.\n"
   ]
  },
  {
   "cell_type": "code",
   "execution_count": null,
   "metadata": {
    "id": "p_yWvcLQ50cj"
   },
   "outputs": [],
   "source": [
    "##analysis on department wise salary as well employee churn rate\n",
    "df3=spark.sql(\"\"\"\n",
    "select titles.title,salaries.salary, employees.no_of_projects from titles \n",
    "JOIN  employees on titles.title_id=employees.emp_titles_id \n",
    "JOIN salaries on employees.emp_no=salaries.emp_no order by salaries.salary desc\n",
    "\"\"\")"
   ]
  },
  {
   "cell_type": "code",
   "execution_count": null,
   "metadata": {
    "id": "QqaR5qow50cj"
   },
   "outputs": [],
   "source": [
    "df4=spark.sql(\"\"\"\n",
    "select titles.title,salaries.salary, employees.last_performance_rating from titles \n",
    "JOIN  employees on titles.title_id=employees.emp_titles_id \n",
    "JOIN salaries on employees.emp_no=salaries.emp_no order by salaries.salary desc\n",
    "\"\"\")"
   ]
  },
  {
   "cell_type": "code",
   "execution_count": null,
   "metadata": {
    "id": "cWta_WMz50ck",
    "outputId": "119871af-9f56-48ab-c954-d3d237fcfb4b",
    "scrolled": true
   },
   "outputs": [
    {
     "data": {
      "text/html": [
       "<div>\n",
       "<style scoped>\n",
       "    .dataframe tbody tr th:only-of-type {\n",
       "        vertical-align: middle;\n",
       "    }\n",
       "\n",
       "    .dataframe tbody tr th {\n",
       "        vertical-align: top;\n",
       "    }\n",
       "\n",
       "    .dataframe thead th {\n",
       "        text-align: right;\n",
       "    }\n",
       "</style>\n",
       "<table border=\"1\" class=\"dataframe\">\n",
       "  <thead>\n",
       "    <tr style=\"text-align: right;\">\n",
       "      <th></th>\n",
       "      <th>title</th>\n",
       "      <th>salary</th>\n",
       "      <th>last_performance_rating</th>\n",
       "    </tr>\n",
       "  </thead>\n",
       "  <tbody>\n",
       "    <tr>\n",
       "      <th>0</th>\n",
       "      <td>Staff</td>\n",
       "      <td>129492</td>\n",
       "      <td>PIP</td>\n",
       "    </tr>\n",
       "    <tr>\n",
       "      <th>1</th>\n",
       "      <td>Senior Staff</td>\n",
       "      <td>127238</td>\n",
       "      <td>A</td>\n",
       "    </tr>\n",
       "    <tr>\n",
       "      <th>2</th>\n",
       "      <td>Staff</td>\n",
       "      <td>127041</td>\n",
       "      <td>A</td>\n",
       "    </tr>\n",
       "    <tr>\n",
       "      <th>3</th>\n",
       "      <td>Staff</td>\n",
       "      <td>126703</td>\n",
       "      <td>C</td>\n",
       "    </tr>\n",
       "    <tr>\n",
       "      <th>4</th>\n",
       "      <td>Staff</td>\n",
       "      <td>125469</td>\n",
       "      <td>B</td>\n",
       "    </tr>\n",
       "  </tbody>\n",
       "</table>\n",
       "</div>"
      ],
      "text/plain": [
       "          title  salary last_performance_rating\n",
       "0         Staff  129492                     PIP\n",
       "1  Senior Staff  127238                       A\n",
       "2         Staff  127041                       A\n",
       "3         Staff  126703                       C\n",
       "4         Staff  125469                       B"
      ]
     },
     "execution_count": 48,
     "metadata": {},
     "output_type": "execute_result"
    }
   ],
   "source": [
    "plt5=df4.toPandas()\n",
    "plt5.head()b"
   ]
  },
  {
   "cell_type": "markdown",
   "metadata": {
    "id": "3GKU2_AD50ck"
   },
   "source": [
    "# 4. Feature Engineering "
   ]
  },
  {
   "cell_type": "code",
   "execution_count": null,
   "metadata": {
    "id": "P2nl1nif50ck"
   },
   "outputs": [],
   "source": [
    "#convert string date type to date format \n",
    "from pyspark.sql.functions import to_timestamp,to_date\n",
    "emp_df = emp_df.withColumn(\"Birth_date1\",to_date(col(\"birth_date\"),\" dd-MM-yyyy\"))\n",
    "emp_df = emp_df.withColumn(\"Hire_date1\",to_date(col(\"hire_date\"),\" dd-MM-yyyy \"))"
   ]
  },
  {
   "cell_type": "code",
   "execution_count": 95,
   "metadata": {
    "id": "ueUdEKz550ck"
   },
   "outputs": [],
   "source": [
    "#log transformation\n",
    "from pyspark.sql.functions import col, log\n",
    "emp_df = emp_df.withColumn( 'salary_log', log('salary') )\n",
    "emp_df = emp_df.withColumn( 'No_Projects', log('no_of_projects') )"
   ]
  },
  {
   "cell_type": "markdown",
   "metadata": {
    "id": "leHaQAhu50cl"
   },
   "source": [
    "# 5. Encoding "
   ]
  },
  {
   "cell_type": "code",
   "execution_count": 96,
   "metadata": {
    "id": "dxZB7j3x50cl"
   },
   "outputs": [],
   "source": [
    "from pyspark.sql import functions as F\n",
    "emp_df = emp_df.withColumn('label',F.when(emp_df.left == 'true', 1)\n",
    "                                   .otherwise(0)\n",
    ")\n",
    "emp_df = emp_df.withColumn('Gender',F.when(emp_df.sex == 'M', 1)\n",
    "                                   .otherwise(0)\n",
    ")"
   ]
  },
  {
   "cell_type": "code",
   "execution_count": 97,
   "metadata": {
    "id": "qsAPHWyR50cl"
   },
   "outputs": [],
   "source": [
    "#Encoding all categorical features\n",
    "from pyspark.ml.feature import OneHotEncoder, StringIndexer, VectorAssembler, PolynomialExpansion, VectorIndexer"
   ]
  },
  {
   "cell_type": "code",
   "execution_count": 98,
   "metadata": {
    "id": "w3g93t3x50cl"
   },
   "outputs": [],
   "source": [
    "# create object of StringIndexer class and specify input and output column\n",
    "SI_Performance = StringIndexer(inputCol='Last_performance_rating',outputCol='Last_Performance_Index')\n",
    "SI_dept_name = StringIndexer(inputCol='dept_name',outputCol='dept_name_Index')\n",
    "SI_title= StringIndexer(inputCol='title',outputCol='title_Index')\n",
    "SI_no_of_projects=StringIndexer(inputCol='no_of_projects',outputCol='no_of_projects_Index')\n",
    "SI_salary=StringIndexer(inputCol='salary_log',outputCol='salary_Index')\n"
   ]
  },
  {
   "cell_type": "code",
   "execution_count": 99,
   "metadata": {
    "id": "nsFwahUU50cm"
   },
   "outputs": [],
   "source": [
    "# transform the data\n",
    "emp_df= SI_Performance.fit(emp_df).transform(emp_df)\n",
    "emp_df = SI_dept_name.fit(emp_df).transform(emp_df)\n",
    "emp_df = SI_title.fit(emp_df).transform(emp_df)\n",
    "emp_df = SI_no_of_projects.fit(emp_df).transform(emp_df)\n",
    "emp_df = SI_salary.fit(emp_df).transform(emp_df)\n"
   ]
  },
  {
   "cell_type": "code",
   "execution_count": null,
   "metadata": {
    "id": "Lfsp9WL650cm",
    "outputId": "07ad9548-655e-4f64-c3ec-9b9a76ccbd29",
    "scrolled": true
   },
   "outputs": [
    {
     "name": "stdout",
     "output_type": "stream",
     "text": [
      "+----------------+----------------------+------------------+---------------+------------------+-----------+------+------------+----------+----------------+----------+---------------+\n",
      "|Last_performance|Last_Performance_index|         dept_name|dept_name_index|             title|title_index|emp_no|emp_no_index|birth_date|birth_date_index| hire_date|hire_date_index|\n",
      "+----------------+----------------------+------------------+---------------+------------------+-----------+------+------------+----------+----------------+----------+---------------+\n",
      "|               C|                   2.0|       development|            0.0|   Senior Engineer|        1.0| 10001|    101662.0|  9/2/1953|          2641.0| 6/26/1986|         1263.0|\n",
      "|               B|                   0.0|             Sales|            2.0|             Staff|        0.0| 10002|     63450.0|  6/2/1964|          3796.0|11/21/1985|           48.0|\n",
      "|               C|                   2.0|        Production|            1.0|   Senior Engineer|        1.0| 10003|    260766.0| 12/3/1959|          2857.0| 8/28/1986|         1587.0|\n",
      "|               A|                   1.0|        Production|            1.0|   Senior Engineer|        1.0| 10004|    206298.0|  5/1/1954|          2971.0| 12/1/1986|          874.0|\n",
      "|               A|                   1.0|   Human Resources|            7.0|             Staff|        0.0| 10005|    151890.0| 1/21/1955|          3857.0| 9/12/1989|         1583.0|\n",
      "|               B|                   0.0|       development|            0.0|   Senior Engineer|        1.0| 10006|     82092.0| 4/20/1953|          3011.0|  6/2/1989|         1728.0|\n",
      "|               B|                   0.0|          Research|            4.0|             Staff|        0.0| 10007|    278856.0| 5/23/1957|          1412.0| 2/10/1989|         1095.0|\n",
      "|               C|                   2.0|       development|            0.0|Assistant Engineer|        5.0| 10008|    255804.0| 2/19/1958|           319.0| 9/15/1994|         3323.0|\n",
      "|               B|                   0.0|Quality Management|            6.0|   Senior Engineer|        1.0| 10009|     65573.0| 4/19/1952|          1037.0| 2/18/1985|          121.0|\n",
      "|               A|                   1.0|Quality Management|            6.0|          Engineer|        2.0| 10010|      4851.0|  6/1/1963|          2520.0| 8/24/1989|         2180.0|\n",
      "+----------------+----------------------+------------------+---------------+------------------+-----------+------+------------+----------+----------------+----------+---------------+\n",
      "only showing top 10 rows\n",
      "\n"
     ]
    }
   ],
   "source": [
    " #view the transformed data\n",
    "emp_df.select('Last_performance','Last_Performance_index','dept_name','dept_name_index',\n",
    "              'title','title_index','emp_no','emp_no_index','birth_date','birth_date_index',\n",
    "               'hire_date','hire_date_index').show(2)\n"
   ]
  },
  {
   "cell_type": "code",
   "execution_count": 71,
   "metadata": {
    "colab": {
     "base_uri": "https://localhost:8080/"
    },
    "id": "PQEIjsdg50cm",
    "outputId": "123710fe-74fa-42a3-879c-5ad50180b4a8"
   },
   "outputs": [
    {
     "data": {
      "text/plain": [
       "['emp_no',\n",
       " 'dept_no',\n",
       " 'emp_title_id',\n",
       " 'birth_date',\n",
       " 'first_name',\n",
       " 'last_name',\n",
       " 'sex',\n",
       " 'hire_date',\n",
       " 'no_of_projects',\n",
       " 'Last_performance_rating',\n",
       " 'left',\n",
       " 'last_date',\n",
       " 'dept_name',\n",
       " 'salary',\n",
       " 'title_id',\n",
       " 'title',\n",
       " 'Churn',\n",
       " 'Gender',\n",
       " 'salary_log',\n",
       " 'No_Projects',\n",
       " 'Last_Performance_Index',\n",
       " 'dept_name_Index',\n",
       " 'title_Index',\n",
       " 'no_of_projects_Index',\n",
       " 'salary_Index']"
      ]
     },
     "execution_count": 71,
     "metadata": {},
     "output_type": "execute_result"
    }
   ],
   "source": [
    "#columns after using stringidex\n",
    "emp_df.columns"
   ]
  },
  {
   "cell_type": "markdown",
   "metadata": {
    "id": "XrQUEAYL50cn"
   },
   "source": [
    "# 6. Feature Selection"
   ]
  },
  {
   "cell_type": "code",
   "execution_count": 101,
   "metadata": {
    "id": "dSkkGPEJ50cn"
   },
   "outputs": [],
   "source": [
    "assembler = VectorAssembler(inputCols = [\n",
    " 'Gender',\n",
    " 'no_of_projects_Index',\n",
    " 'Last_Performance_Index',\n",
    "  'salary_Index',\n",
    " 'dept_name_Index',\n",
    " 'title_Index'\n",
    "], outputCol = \"features\")"
   ]
  },
  {
   "cell_type": "code",
   "execution_count": 103,
   "metadata": {
    "colab": {
     "base_uri": "https://localhost:8080/"
    },
    "id": "cedMnagF50cn",
    "outputId": "b9da98b1-60ac-4d7c-9499-635f4e36ff40"
   },
   "outputs": [
    {
     "name": "stdout",
     "output_type": "stream",
     "text": [
      "+-----+--------------------+\n",
      "|label|            features|\n",
      "+-----+--------------------+\n",
      "|    0|[1.0,7.0,1.0,0.0,...|\n",
      "|    0|[0.0,6.0,2.0,4934...|\n",
      "|    0|[0.0,0.0,1.0,1784...|\n",
      "|    0|[1.0,7.0,2.0,0.0,...|\n",
      "|    0|[0.0,1.0,0.0,0.0,...|\n",
      "|    0|[1.0,4.0,0.0,0.0,...|\n",
      "|    0|[1.0,2.0,1.0,1072...|\n",
      "|    0|[1.0,7.0,1.0,0.0,...|\n",
      "|    0|[1.0,8.0,1.0,2330...|\n",
      "|    0|[0.0,1.0,0.0,0.0,...|\n",
      "|    0|[0.0,6.0,3.0,0.0,...|\n",
      "|    0|[1.0,4.0,2.0,2884...|\n",
      "|    0|[0.0,3.0,2.0,0.0,...|\n",
      "|    0|[0.0,3.0,2.0,0.0,...|\n",
      "|    0|[0.0,0.0,2.0,4588...|\n",
      "|    0|[1.0,3.0,2.0,0.0,...|\n",
      "|    0|[1.0,3.0,2.0,6830...|\n",
      "|    0|[1.0,0.0,0.0,1548...|\n",
      "|    0|[1.0,5.0,1.0,1473...|\n",
      "|    0|[1.0,2.0,2.0,1273...|\n",
      "+-----+--------------------+\n",
      "only showing top 20 rows\n",
      "\n"
     ]
    }
   ],
   "source": [
    "emp_data= assembler.transform(emp_df).select('label','features')\n",
    "emp_data.show()"
   ]
  },
  {
   "cell_type": "markdown",
   "metadata": {
    "id": "uXkEc-aY50cn"
   },
   "source": [
    "# 7. Modelling "
   ]
  },
  {
   "cell_type": "code",
   "execution_count": 104,
   "metadata": {
    "id": "ve_eWlcaIcI3"
   },
   "outputs": [],
   "source": [
    "#split the train data\n",
    "train_df, test_df = emp_data.randomSplit( [0.7, 0.3], seed = 42 )"
   ]
  },
  {
   "cell_type": "code",
   "execution_count": 105,
   "metadata": {
    "id": "6T7Em6dBIcfk"
   },
   "outputs": [],
   "source": [
    "def train(train, test, classifier):\n",
    " \n",
    "  print(classifier)\n",
    "  model = classifier.fit(train)\n",
    "\n",
    "  pred = model.transform(test)\n",
    "\n",
    "  eval_accuracy = (MulticlassClassificationEvaluator\n",
    "        (labelCol=\"label\", predictionCol=\"prediction\", metricName=\"accuracy\"))\n",
    "  \n",
    "  eval_precision = (MulticlassClassificationEvaluator\n",
    "        (labelCol=\"label\", predictionCol=\"prediction\", metricName=\"weightedPrecision\"))\n",
    "  \n",
    "  eval_recall = (MulticlassClassificationEvaluator\n",
    "        (labelCol=\"label\", predictionCol=\"prediction\", metricName=\"weightedRecall\"))\n",
    "  \n",
    "  eval_f1 = (MulticlassClassificationEvaluator\n",
    "        (labelCol=\"label\", predictionCol=\"prediction\", metricName=\"f1\"))\n",
    "\n",
    "  accuracy = eval_accuracy.evaluate(pred)\n",
    "\n",
    "  precision =  eval_precision.evaluate(pred)\n",
    "\n",
    "  recall =  eval_recall.evaluate(pred)\n",
    "\n",
    "  f1 =  eval_f1.evaluate(pred)\n",
    "\n",
    "  print(f\"\"\"\n",
    "  Accuracy  = {accuracy}\n",
    "  Error     = {1-accuracy}\n",
    "  Precision = {precision}\n",
    "  Recall    = {recall}\n",
    "  F1        = {f1}\"\"\")\n",
    "\n",
    "  return model, pred"
   ]
  },
  {
   "cell_type": "code",
   "execution_count": 92,
   "metadata": {
    "colab": {
     "base_uri": "https://localhost:8080/"
    },
    "id": "pKyxD7_PIcyt",
    "outputId": "3fbde171-9eef-4a86-f959-243b8f2c80b4"
   },
   "outputs": [
    {
     "name": "stdout",
     "output_type": "stream",
     "text": [
      "RandomForestClassifier_39c1b87a9fc1\n",
      "\n",
      "  Accuracy  = 0.8952380952380953\n",
      "  Error     = 0.10476190476190472\n",
      "  Precision = 0.8933314415437004\n",
      "  Recall    = 0.8952380952380952\n",
      "  F1        = 0.877222675424607\n",
      "+----------+-----+--------------------+\n",
      "|prediction|label|            features|\n",
      "+----------+-----+--------------------+\n",
      "|       1.0|    0|(16,[1,2,3,4,5,6,...|\n",
      "|       0.0|    0|[0.0,12.5,67.0,2....|\n",
      "|       0.0|    0|[0.0,18.9,92.0,3....|\n",
      "|       0.0|    0|[0.0,27.0,117.0,4...|\n",
      "|       0.0|    0|[0.0,39.5,78.0,6....|\n",
      "|       0.0|    0|[0.0,40.4,105.0,6...|\n",
      "|       0.0|    0|[0.0,41.9,124.0,7...|\n",
      "|       0.0|    0|[0.0,49.2,121.0,8...|\n",
      "|       0.0|    0|[0.0,51.1,106.0,8...|\n",
      "|       0.0|    0|[0.0,51.8,107.0,8...|\n",
      "|       0.0|    0|[0.0,51.9,108.0,8...|\n",
      "|       0.0|    0|[0.0,54.8,92.0,9....|\n",
      "|       0.0|    0|[0.0,55.3,102.0,9...|\n",
      "|       0.0|    0|[0.0,55.6,65.0,9....|\n",
      "|       0.0|    0|[0.0,57.1,98.0,9....|\n",
      "|       0.0|    0|[0.0,58.0,125.0,9...|\n",
      "|       0.0|    0|[0.0,58.2,96.0,9....|\n",
      "|       0.0|    0|[0.0,60.4,158.0,1...|\n",
      "|       0.0|    0|[0.0,62.3,92.0,10...|\n",
      "|       0.0|    0|[0.0,62.8,124.0,1...|\n",
      "+----------+-----+--------------------+\n",
      "only showing top 20 rows\n",
      "\n"
     ]
    }
   ],
   "source": [
    "rfm2 = RandomForestClassifier(featuresCol=\"features\",\n",
    "                              labelCol=\"label\",\n",
    "                              numTrees=32,\n",
    "                              maxDepth=5\n",
    "                              )\n",
    "_ , pred2 = train(train_df, test_df, rfm2)\n",
    "\n",
    "pred2.select(\"prediction\", \"label\", \"features\").show()"
   ]
  }
 ],
 "metadata": {
  "colab": {
   "name": "Employee_Data_Analysis (2).ipynb",
   "provenance": []
  },
  "kernelspec": {
   "display_name": "Python 3",
   "language": "python",
   "name": "python3"
  },
  "language_info": {
   "codemirror_mode": {
    "name": "ipython",
    "version": 3
   },
   "file_extension": ".py",
   "mimetype": "text/x-python",
   "name": "python",
   "nbconvert_exporter": "python",
   "pygments_lexer": "ipython3",
   "version": "3.7.6"
  }
 },
 "nbformat": 4,
 "nbformat_minor": 1
}
